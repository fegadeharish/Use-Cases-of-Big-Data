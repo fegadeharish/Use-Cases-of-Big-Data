{
  "nbformat": 4,
  "nbformat_minor": 0,
  "metadata": {
    "colab": {
      "name": "overfit-underfit.ipynb",
      "version": "0.3.2",
      "provenance": [],
      "include_colab_link": true
    },
    "kernelspec": {
      "name": "python3",
      "display_name": "Python 3"
    },
    "accelerator": "TPU"
  },
  "cells": [
    {
      "cell_type": "markdown",
      "metadata": {
        "id": "view-in-github",
        "colab_type": "text"
      },
      "source": [
        "<a href=\"https://colab.research.google.com/github/fegadeharish/Use-Cases-of-Big-Data/blob/master/overfit_underfit.ipynb\" target=\"_parent\"><img src=\"https://colab.research.google.com/assets/colab-badge.svg\" alt=\"Open In Colab\"/></a>"
      ]
    },
    {
      "metadata": {
        "id": "ryM5rv9OOiGd",
        "colab_type": "code",
        "outputId": "f20e1f22-6c14-4629-eaa0-b8eed32eae89",
        "colab": {
          "base_uri": "https://localhost:8080/",
          "height": 52
        }
      },
      "cell_type": "code",
      "source": [
        "import keras\n",
        "keras.__version__"
      ],
      "execution_count": 0,
      "outputs": [
        {
          "output_type": "stream",
          "text": [
            "Using TensorFlow backend.\n"
          ],
          "name": "stderr"
        },
        {
          "output_type": "execute_result",
          "data": {
            "text/plain": [
              "'2.2.4'"
            ]
          },
          "metadata": {
            "tags": []
          },
          "execution_count": 1
        }
      ]
    },
    {
      "metadata": {
        "id": "N24FdD3QOiGp",
        "colab_type": "text"
      },
      "cell_type": "markdown",
      "source": [
        "# Overfitting and underfitting\n",
        "\n",
        "This notebook contains the code samples found in Chapter 3, Section 6 of [Deep Learning with Python](https://www.manning.com/books/deep-learning-with-python?a_aid=keras&a_bid=76564dff). Note that the original text features far more content, in particular further explanations and figures: in this notebook, you will only find source code and related comments.\n",
        "\n",
        "----\n",
        "\n",
        "\n",
        "In all the examples we saw in the previous chapter -- movie review sentiment prediction, topic classification, and house price regression -- \n",
        "we could notice that the performance of our model on the held-out validation data would always peak after a few epochs and would then start \n",
        "degrading, i.e. our model would quickly start to _overfit_ to the training data. Overfitting happens in every single machine learning \n",
        "problem. Learning how to deal with overfitting is essential to mastering machine learning.\n",
        "\n",
        "The fundamental issue in machine learning is the tension between optimization and generalization. \"Optimization\" refers to the process of \n",
        "adjusting a model to get the best performance possible on the training data (the \"learning\" in \"machine learning\"), while \"generalization\" \n",
        "refers to how well the trained model would perform on data it has never seen before. The goal of the game is to get good generalization, of \n",
        "course, but you do not control generalization; you can only adjust the model based on its training data.\n",
        "\n",
        "At the beginning of training, optimization and generalization are correlated: the lower your loss on training data, the lower your loss on \n",
        "test data. While this is happening, your model is said to be _under-fit_: there is still progress to be made; the network hasn't yet \n",
        "modeled all relevant patterns in the training data. But after a certain number of iterations on the training data, generalization stops \n",
        "improving, validation metrics stall then start degrading: the model is then starting to over-fit, i.e. is it starting to learn patterns \n",
        "that are specific to the training data but that are misleading or irrelevant when it comes to new data.\n",
        "\n",
        "To prevent a model from learning misleading or irrelevant patterns found in the training data, _the best solution is of course to get \n",
        "more training data_. A model trained on more data will naturally generalize better. When that is no longer possible, the next best solution \n",
        "is to modulate the quantity of information that your model is allowed to store, or to add constraints on what information it is allowed to \n",
        "store. If a network can only afford to memorize a small number of patterns, the optimization process will force it to focus on the most \n",
        "prominent patterns, which have a better chance of generalizing well.\n",
        "\n",
        "The processing of fighting overfitting in this way is called _regularization_. Let's review some of the most common regularization \n",
        "techniques, and let's apply them in practice to improve our movie classification model from  the previous chapter."
      ]
    },
    {
      "metadata": {
        "id": "t_1HZu5DOiGq",
        "colab_type": "text"
      },
      "cell_type": "markdown",
      "source": [
        "Note: in this notebook we will be using the IMDB test set as our validation set. It doesn't matter in this context.\n",
        "\n",
        "Let's prepare the data using the code from Chapter 3, Section 5:"
      ]
    },
    {
      "metadata": {
        "id": "pNSMR11wOiGt",
        "colab_type": "code",
        "outputId": "b9881cf4-b741-4c2b-eea4-7bdd88b0e79d",
        "colab": {
          "base_uri": "https://localhost:8080/",
          "height": 52
        }
      },
      "cell_type": "code",
      "source": [
        "from keras.datasets import imdb\n",
        "import numpy as np\n",
        "\n",
        "(train_data, train_labels), (test_data, test_labels) = imdb.load_data(num_words=10000)\n",
        "\n",
        "def vectorize_sequences(sequences, dimension=10000):\n",
        "    # Create an all-zero matrix of shape (len(sequences), dimension)\n",
        "    results = np.zeros((len(sequences), dimension))\n",
        "    for i, sequence in enumerate(sequences):\n",
        "        results[i, sequence] = 1.  # set specific indices of results[i] to 1s\n",
        "    return results\n",
        "\n",
        "# Our vectorized training data\n",
        "x_train = vectorize_sequences(train_data)\n",
        "# Our vectorized test data\n",
        "x_test = vectorize_sequences(test_data)\n",
        "# Our vectorized labels\n",
        "y_train = np.asarray(train_labels).astype('float32')\n",
        "y_test = np.asarray(test_labels).astype('float32')"
      ],
      "execution_count": 0,
      "outputs": [
        {
          "output_type": "stream",
          "text": [
            "Downloading data from https://s3.amazonaws.com/text-datasets/imdb.npz\n",
            "17465344/17464789 [==============================] - 0s 0us/step\n"
          ],
          "name": "stdout"
        }
      ]
    },
    {
      "metadata": {
        "id": "gDb7mm56OiGy",
        "colab_type": "text"
      },
      "cell_type": "markdown",
      "source": [
        "# Fighting overfitting\n",
        "\n",
        "## Reducing the network's size\n",
        "\n",
        "\n",
        "The simplest way to prevent overfitting is to reduce the size of the model, i.e. the number of learnable parameters in the model (which is \n",
        "determined by the number of layers and the number of units per layer). In deep learning, the number of learnable parameters in a model is \n",
        "often referred to as the model's \"capacity\". Intuitively, a model with more parameters will have more \"memorization capacity\" and therefore \n",
        "will be able to easily learn a perfect dictionary-like mapping between training samples and their targets, a mapping without any \n",
        "generalization power. For instance, a model with 500,000 binary parameters could easily be made to learn the class of every digits in the \n",
        "MNIST training set: we would only need 10 binary parameters for each of the 50,000 digits. Such a model would be useless for classifying \n",
        "new digit samples. Always keep this in mind: deep learning models tend to be good at fitting to the training data, but the real challenge \n",
        "is generalization, not fitting.\n",
        "\n",
        "On the other hand, if the network has limited memorization resources, it will not be able to learn this mapping as easily, and thus, in \n",
        "order to minimize its loss, it will have to resort to learning compressed representations that have predictive power regarding the targets \n",
        "-- precisely the type of representations that we are interested in. At the same time, keep in mind that you should be using models that have \n",
        "enough parameters that they won't be underfitting: your model shouldn't be starved for memorization resources. There is a compromise to be \n",
        "found between \"too much capacity\" and \"not enough capacity\".\n",
        "\n",
        "Unfortunately, there is no magical formula to determine what the right number of layers is, or what the right size for each layer is. You \n",
        "will have to evaluate an array of different architectures (on your validation set, not on your test set, of course) in order to find the \n",
        "right model size for your data. The general workflow to find an appropriate model size is to start with relatively few layers and \n",
        "parameters, and start increasing the size of the layers or adding new layers until you see diminishing returns with regard to the \n",
        "validation loss.\n",
        "\n",
        "Let's try this on our movie review classification network. Our original network was as such:"
      ]
    },
    {
      "metadata": {
        "id": "qVb1Bcb7OiG0",
        "colab_type": "code",
        "outputId": "a6cc1520-3377-4bb5-8e6e-469f2b3fd2fe",
        "colab": {
          "base_uri": "https://localhost:8080/",
          "height": 90
        }
      },
      "cell_type": "code",
      "source": [
        "from keras import models\n",
        "from keras import layers\n",
        "\n",
        "original_model = models.Sequential()\n",
        "original_model.add(layers.Dense(16, activation='relu', input_shape=(10000,)))\n",
        "original_model.add(layers.Dense(16, activation='relu'))\n",
        "original_model.add(layers.Dense(1, activation='sigmoid'))\n",
        "\n",
        "original_model.compile(optimizer='rmsprop',\n",
        "                       loss='binary_crossentropy',\n",
        "                       metrics=['acc'])"
      ],
      "execution_count": 0,
      "outputs": [
        {
          "output_type": "stream",
          "text": [
            "WARNING:tensorflow:From /usr/local/lib/python3.6/dist-packages/tensorflow/python/framework/op_def_library.py:263: colocate_with (from tensorflow.python.framework.ops) is deprecated and will be removed in a future version.\n",
            "Instructions for updating:\n",
            "Colocations handled automatically by placer.\n"
          ],
          "name": "stdout"
        }
      ]
    },
    {
      "metadata": {
        "id": "9NQeiwbmOiG4",
        "colab_type": "text"
      },
      "cell_type": "markdown",
      "source": [
        "Now let's try to replace it with this smaller network:"
      ]
    },
    {
      "metadata": {
        "id": "IyTIy4R7OiG6",
        "colab_type": "code",
        "colab": {}
      },
      "cell_type": "code",
      "source": [
        "smaller_model = models.Sequential()\n",
        "smaller_model.add(layers.Dense(4, activation='relu', input_shape=(10000,)))\n",
        "smaller_model.add(layers.Dense(4, activation='relu'))\n",
        "smaller_model.add(layers.Dense(1, activation='sigmoid'))\n",
        "\n",
        "smaller_model.compile(optimizer='rmsprop',\n",
        "                      loss='binary_crossentropy',\n",
        "                      metrics=['acc'])"
      ],
      "execution_count": 0,
      "outputs": []
    },
    {
      "metadata": {
        "id": "UpMNcRnwOiG9",
        "colab_type": "text"
      },
      "cell_type": "markdown",
      "source": [
        "\n",
        "Here's a comparison of the validation losses of the original network and the smaller network. The dots are the validation loss values of \n",
        "the smaller network, and the crosses are the initial network (remember: a lower validation loss signals a better model)."
      ]
    },
    {
      "metadata": {
        "id": "_CBX9XkDOiG_",
        "colab_type": "code",
        "outputId": "df0458fe-f828-47cf-89fa-ddea050d2bb7",
        "colab": {
          "base_uri": "https://localhost:8080/",
          "height": 811
        }
      },
      "cell_type": "code",
      "source": [
        "original_hist = original_model.fit(x_train, y_train,\n",
        "                                   epochs=20,\n",
        "                                   batch_size=512,\n",
        "                                   validation_data=(x_test, y_test))"
      ],
      "execution_count": 0,
      "outputs": [
        {
          "output_type": "stream",
          "text": [
            "WARNING:tensorflow:From /usr/local/lib/python3.6/dist-packages/tensorflow/python/ops/math_ops.py:3066: to_int32 (from tensorflow.python.ops.math_ops) is deprecated and will be removed in a future version.\n",
            "Instructions for updating:\n",
            "Use tf.cast instead.\n",
            "Train on 25000 samples, validate on 25000 samples\n",
            "Epoch 1/20\n",
            "25000/25000 [==============================] - 5s 189us/step - loss: 0.4440 - acc: 0.8247 - val_loss: 0.3287 - val_acc: 0.8835\n",
            "Epoch 2/20\n",
            "25000/25000 [==============================] - 4s 171us/step - loss: 0.2573 - acc: 0.9078 - val_loss: 0.2860 - val_acc: 0.8884\n",
            "Epoch 3/20\n",
            "25000/25000 [==============================] - 4s 158us/step - loss: 0.1994 - acc: 0.9291 - val_loss: 0.2820 - val_acc: 0.8888\n",
            "Epoch 4/20\n",
            "25000/25000 [==============================] - 4s 159us/step - loss: 0.1667 - acc: 0.9412 - val_loss: 0.2938 - val_acc: 0.8846\n",
            "Epoch 5/20\n",
            "25000/25000 [==============================] - 4s 163us/step - loss: 0.1434 - acc: 0.9502 - val_loss: 0.3116 - val_acc: 0.8803\n",
            "Epoch 6/20\n",
            "25000/25000 [==============================] - 4s 156us/step - loss: 0.1257 - acc: 0.9558 - val_loss: 0.3488 - val_acc: 0.8720\n",
            "Epoch 7/20\n",
            "25000/25000 [==============================] - 4s 160us/step - loss: 0.1103 - acc: 0.9620 - val_loss: 0.3592 - val_acc: 0.8730\n",
            "Epoch 8/20\n",
            "25000/25000 [==============================] - 4s 158us/step - loss: 0.0974 - acc: 0.9675 - val_loss: 0.3968 - val_acc: 0.8663\n",
            "Epoch 9/20\n",
            "25000/25000 [==============================] - 4s 161us/step - loss: 0.0845 - acc: 0.9722 - val_loss: 0.4416 - val_acc: 0.8593\n",
            "Epoch 10/20\n",
            "25000/25000 [==============================] - 4s 157us/step - loss: 0.0748 - acc: 0.9763 - val_loss: 0.5048 - val_acc: 0.8521\n",
            "Epoch 11/20\n",
            "25000/25000 [==============================] - 4s 168us/step - loss: 0.0684 - acc: 0.9778 - val_loss: 0.4861 - val_acc: 0.8604\n",
            "Epoch 12/20\n",
            "25000/25000 [==============================] - 4s 162us/step - loss: 0.0563 - acc: 0.9831 - val_loss: 0.5234 - val_acc: 0.8569\n",
            "Epoch 13/20\n",
            "25000/25000 [==============================] - 4s 162us/step - loss: 0.0511 - acc: 0.9848 - val_loss: 0.5339 - val_acc: 0.8579\n",
            "Epoch 14/20\n",
            "25000/25000 [==============================] - 4s 161us/step - loss: 0.0422 - acc: 0.9880 - val_loss: 0.5988 - val_acc: 0.8515\n",
            "Epoch 15/20\n",
            "25000/25000 [==============================] - 4s 160us/step - loss: 0.0362 - acc: 0.9896 - val_loss: 0.6116 - val_acc: 0.8548\n",
            "Epoch 16/20\n",
            "25000/25000 [==============================] - 4s 160us/step - loss: 0.0307 - acc: 0.9914 - val_loss: 0.6449 - val_acc: 0.8543\n",
            "Epoch 17/20\n",
            "25000/25000 [==============================] - 4s 163us/step - loss: 0.0262 - acc: 0.9930 - val_loss: 0.7326 - val_acc: 0.8455\n",
            "Epoch 18/20\n",
            "25000/25000 [==============================] - 4s 163us/step - loss: 0.0208 - acc: 0.9947 - val_loss: 0.7257 - val_acc: 0.8518\n",
            "Epoch 19/20\n",
            "25000/25000 [==============================] - 4s 160us/step - loss: 0.0211 - acc: 0.9941 - val_loss: 0.7513 - val_acc: 0.8504\n",
            "Epoch 20/20\n",
            "25000/25000 [==============================] - 4s 161us/step - loss: 0.0141 - acc: 0.9966 - val_loss: 0.8501 - val_acc: 0.8433\n"
          ],
          "name": "stdout"
        }
      ]
    },
    {
      "metadata": {
        "id": "9-vx6Iv7OiHD",
        "colab_type": "code",
        "outputId": "52b55604-0a01-4911-f9a2-eb405148ad20",
        "colab": {
          "base_uri": "https://localhost:8080/",
          "height": 738
        }
      },
      "cell_type": "code",
      "source": [
        "smaller_model_hist = smaller_model.fit(x_train, y_train,\n",
        "                                       epochs=20,\n",
        "                                       batch_size=512,\n",
        "                                       validation_data=(x_test, y_test))"
      ],
      "execution_count": 0,
      "outputs": [
        {
          "output_type": "stream",
          "text": [
            "Train on 25000 samples, validate on 25000 samples\n",
            "Epoch 1/20\n",
            "25000/25000 [==============================] - 4s 145us/step - loss: 0.5804 - acc: 0.7030 - val_loss: 0.5309 - val_acc: 0.7558\n",
            "Epoch 2/20\n",
            "25000/25000 [==============================] - 4s 141us/step - loss: 0.4844 - acc: 0.8453 - val_loss: 0.4873 - val_acc: 0.8296\n",
            "Epoch 3/20\n",
            "25000/25000 [==============================] - 3s 137us/step - loss: 0.4389 - acc: 0.8926 - val_loss: 0.4659 - val_acc: 0.8510\n",
            "Epoch 4/20\n",
            "25000/25000 [==============================] - 3s 136us/step - loss: 0.4077 - acc: 0.9159 - val_loss: 0.4533 - val_acc: 0.8640\n",
            "Epoch 5/20\n",
            "25000/25000 [==============================] - 3s 137us/step - loss: 0.3832 - acc: 0.9302 - val_loss: 0.4509 - val_acc: 0.8624\n",
            "Epoch 6/20\n",
            "25000/25000 [==============================] - 4s 145us/step - loss: 0.3620 - acc: 0.9414 - val_loss: 0.4439 - val_acc: 0.8707\n",
            "Epoch 7/20\n",
            "25000/25000 [==============================] - 4s 143us/step - loss: 0.3426 - acc: 0.9510 - val_loss: 0.4502 - val_acc: 0.8670\n",
            "Epoch 8/20\n",
            "25000/25000 [==============================] - 3s 137us/step - loss: 0.3262 - acc: 0.9565 - val_loss: 0.4533 - val_acc: 0.8672\n",
            "Epoch 9/20\n",
            "25000/25000 [==============================] - 3s 136us/step - loss: 0.3099 - acc: 0.9617 - val_loss: 0.4714 - val_acc: 0.8618\n",
            "Epoch 10/20\n",
            "25000/25000 [==============================] - 3s 139us/step - loss: 0.2960 - acc: 0.9649 - val_loss: 0.4617 - val_acc: 0.8646\n",
            "Epoch 11/20\n",
            "25000/25000 [==============================] - 4s 141us/step - loss: 0.2815 - acc: 0.9689 - val_loss: 0.4877 - val_acc: 0.8594\n",
            "Epoch 12/20\n",
            "25000/25000 [==============================] - 3s 136us/step - loss: 0.2687 - acc: 0.9711 - val_loss: 0.4750 - val_acc: 0.8628\n",
            "Epoch 13/20\n",
            "25000/25000 [==============================] - 3s 137us/step - loss: 0.2571 - acc: 0.9740 - val_loss: 0.5099 - val_acc: 0.8577\n",
            "Epoch 14/20\n",
            "25000/25000 [==============================] - 3s 137us/step - loss: 0.2455 - acc: 0.9766 - val_loss: 0.5399 - val_acc: 0.8546\n",
            "Epoch 15/20\n",
            "25000/25000 [==============================] - 3s 136us/step - loss: 0.2343 - acc: 0.9778 - val_loss: 0.5045 - val_acc: 0.8606\n",
            "Epoch 16/20\n",
            "25000/25000 [==============================] - 3s 139us/step - loss: 0.2238 - acc: 0.9800 - val_loss: 0.5945 - val_acc: 0.8510\n",
            "Epoch 17/20\n",
            "25000/25000 [==============================] - 3s 138us/step - loss: 0.2151 - acc: 0.9806 - val_loss: 0.5479 - val_acc: 0.8567\n",
            "Epoch 18/20\n",
            "25000/25000 [==============================] - 3s 138us/step - loss: 0.2055 - acc: 0.9820 - val_loss: 0.6049 - val_acc: 0.8534\n",
            "Epoch 19/20\n",
            "25000/25000 [==============================] - 3s 139us/step - loss: 0.1970 - acc: 0.9832 - val_loss: 0.5874 - val_acc: 0.8552\n",
            "Epoch 20/20\n",
            "25000/25000 [==============================] - 3s 137us/step - loss: 0.1888 - acc: 0.9840 - val_loss: 0.6707 - val_acc: 0.8490\n"
          ],
          "name": "stdout"
        }
      ]
    },
    {
      "metadata": {
        "id": "bwHKf32xOiHH",
        "colab_type": "code",
        "colab": {}
      },
      "cell_type": "code",
      "source": [
        "epochs = range(1, 21)\n",
        "original_val_loss = original_hist.history['val_loss']\n",
        "smaller_model_val_loss = smaller_model_hist.history['val_loss']"
      ],
      "execution_count": 0,
      "outputs": []
    },
    {
      "metadata": {
        "id": "Nih283ZXWc-N",
        "colab_type": "code",
        "colab": {}
      },
      "cell_type": "code",
      "source": [
        "# original_val_loss"
      ],
      "execution_count": 0,
      "outputs": []
    },
    {
      "metadata": {
        "id": "rtapYvbHOiHK",
        "colab_type": "code",
        "outputId": "fba88e05-40e3-4d6c-b53e-df2c8c0213c9",
        "colab": {
          "base_uri": "https://localhost:8080/",
          "height": 361
        }
      },
      "cell_type": "code",
      "source": [
        "import matplotlib.pyplot as plt\n",
        "\n",
        "# b+ is for \"blue cross\"\n",
        "plt.plot(epochs, original_val_loss, 'ro', label='Original model', )\n",
        "# \"bo\" is for \"blue dot\"\n",
        "plt.plot(epochs, smaller_model_val_loss, 'bo', label='Smaller model')\n",
        "plt.xlabel('Epochs')\n",
        "plt.ylabel('Validation loss')\n",
        "plt.legend()\n",
        "\n",
        "plt.show()"
      ],
      "execution_count": 0,
      "outputs": [
        {
          "output_type": "display_data",
          "data": {
            "image/png": "[encoded data removed]",
            "text/plain": [
              "<Figure size 576x396 with 1 Axes>"
            ]
          },
          "metadata": {
            "tags": []
          }
        }
      ]
    },
    {
      "metadata": {
        "id": "7AF5ZheFOiHN",
        "colab_type": "text"
      },
      "cell_type": "markdown",
      "source": [
        "\n",
        "As you can see, the smaller network starts overfitting later than the reference one (after 6 epochs rather than 4) and its performance \n",
        "degrades much more slowly once it starts overfitting.\n",
        "\n",
        "Now, for kicks, let's add to this benchmark a network that has much more capacity, far more than the problem would warrant:"
      ]
    },
    {
      "metadata": {
        "id": "IIfi7iz4OiHO",
        "colab_type": "code",
        "colab": {}
      },
      "cell_type": "code",
      "source": [
        "bigger_model = models.Sequential()\n",
        "bigger_model.add(layers.Dense(512, activation='relu', input_shape=(10000,)))\n",
        "bigger_model.add(layers.Dense(512, activation='relu'))\n",
        "bigger_model.add(layers.Dense(1, activation='sigmoid'))\n",
        "\n",
        "bigger_model.compile(optimizer='rmsprop',\n",
        "                     loss='binary_crossentropy',\n",
        "                     metrics=['acc'])"
      ],
      "execution_count": 0,
      "outputs": []
    },
    {
      "metadata": {
        "id": "H0bdTLAtOiHR",
        "colab_type": "code",
        "outputId": "1a079a99-f361-4c40-fbc4-74b6ecd60d89",
        "colab": {
          "base_uri": "https://localhost:8080/",
          "height": 738
        }
      },
      "cell_type": "code",
      "source": [
        "bigger_model_hist = bigger_model.fit(x_train, y_train,\n",
        "                                     epochs=20,\n",
        "                                     batch_size=512,\n",
        "                                     validation_data=(x_test, y_test))"
      ],
      "execution_count": 0,
      "outputs": [
        {
          "output_type": "stream",
          "text": [
            "Train on 25000 samples, validate on 25000 samples\n",
            "Epoch 1/20\n",
            "25000/25000 [==============================] - 19s 772us/step - loss: 0.4682 - acc: 0.7956 - val_loss: 0.2827 - val_acc: 0.8892\n",
            "Epoch 2/20\n",
            "25000/25000 [==============================] - 19s 754us/step - loss: 0.2252 - acc: 0.9106 - val_loss: 0.3021 - val_acc: 0.8734\n",
            "Epoch 3/20\n",
            "25000/25000 [==============================] - 19s 767us/step - loss: 0.1341 - acc: 0.9511 - val_loss: 0.3553 - val_acc: 0.8717\n",
            "Epoch 4/20\n",
            "25000/25000 [==============================] - 19s 773us/step - loss: 0.0791 - acc: 0.9750 - val_loss: 0.3675 - val_acc: 0.8851\n",
            "Epoch 5/20\n",
            "25000/25000 [==============================] - 19s 761us/step - loss: 0.0598 - acc: 0.9888 - val_loss: 0.4181 - val_acc: 0.8822\n",
            "Epoch 6/20\n",
            "25000/25000 [==============================] - 19s 770us/step - loss: 0.0612 - acc: 0.9886 - val_loss: 0.5011 - val_acc: 0.8740\n",
            "Epoch 7/20\n",
            "25000/25000 [==============================] - 19s 762us/step - loss: 0.0015 - acc: 1.0000 - val_loss: 0.6351 - val_acc: 0.8822\n",
            "Epoch 8/20\n",
            "25000/25000 [==============================] - 19s 756us/step - loss: 0.0743 - acc: 0.9892 - val_loss: 0.5658 - val_acc: 0.8805\n",
            "Epoch 9/20\n",
            "25000/25000 [==============================] - 19s 753us/step - loss: 8.6210e-04 - acc: 0.9999 - val_loss: 0.6629 - val_acc: 0.8788\n",
            "Epoch 10/20\n",
            "25000/25000 [==============================] - 19s 755us/step - loss: 8.7183e-05 - acc: 1.0000 - val_loss: 0.7825 - val_acc: 0.8799\n",
            "Epoch 11/20\n",
            "25000/25000 [==============================] - 19s 751us/step - loss: 0.0891 - acc: 0.9896 - val_loss: 0.8071 - val_acc: 0.8664\n",
            "Epoch 12/20\n",
            "25000/25000 [==============================] - 19s 753us/step - loss: 6.9429e-05 - acc: 1.0000 - val_loss: 0.7644 - val_acc: 0.8804\n",
            "Epoch 13/20\n",
            "25000/25000 [==============================] - 19s 755us/step - loss: 1.3344e-05 - acc: 1.0000 - val_loss: 0.8456 - val_acc: 0.8805\n",
            "Epoch 14/20\n",
            "25000/25000 [==============================] - 19s 766us/step - loss: 2.7053e-06 - acc: 1.0000 - val_loss: 0.9168 - val_acc: 0.8784\n",
            "Epoch 15/20\n",
            "25000/25000 [==============================] - 19s 752us/step - loss: 5.6593e-07 - acc: 1.0000 - val_loss: 0.9834 - val_acc: 0.8793\n",
            "Epoch 16/20\n",
            "25000/25000 [==============================] - 19s 755us/step - loss: 1.8669e-07 - acc: 1.0000 - val_loss: 1.0359 - val_acc: 0.8793\n",
            "Epoch 17/20\n",
            "25000/25000 [==============================] - 19s 761us/step - loss: 1.2875e-07 - acc: 1.0000 - val_loss: 1.0612 - val_acc: 0.8793\n",
            "Epoch 18/20\n",
            "25000/25000 [==============================] - 19s 765us/step - loss: 1.1781e-07 - acc: 1.0000 - val_loss: 1.0745 - val_acc: 0.8799\n",
            "Epoch 19/20\n",
            "25000/25000 [==============================] - 19s 759us/step - loss: 1.1437e-07 - acc: 1.0000 - val_loss: 1.0830 - val_acc: 0.8799\n",
            "Epoch 20/20\n",
            "25000/25000 [==============================] - 19s 763us/step - loss: 1.1268e-07 - acc: 1.0000 - val_loss: 1.0892 - val_acc: 0.8798\n"
          ],
          "name": "stdout"
        }
      ]
    },
    {
      "metadata": {
        "id": "SKsNvISxOiHX",
        "colab_type": "text"
      },
      "cell_type": "markdown",
      "source": [
        "Here's how the bigger network fares compared to the reference one. The dots are the validation loss values of the bigger network, and the \n",
        "crosses are the initial network."
      ]
    },
    {
      "metadata": {
        "id": "vGOrVZoFOiHY",
        "colab_type": "code",
        "outputId": "b2ca2f8e-f935-48e0-db15-9de2ecfec30f",
        "colab": {
          "base_uri": "https://localhost:8080/",
          "height": 361
        }
      },
      "cell_type": "code",
      "source": [
        "bigger_model_val_loss = bigger_model_hist.history['val_loss']\n",
        "\n",
        "plt.plot(epochs, original_val_loss, 'ro', label='Original model')\n",
        "plt.plot(epochs, bigger_model_val_loss, 'bo', label='Bigger model')\n",
        "plt.xlabel('Epochs')\n",
        "plt.ylabel('Validation loss')\n",
        "plt.legend()\n",
        "\n",
        "plt.show()"
      ],
      "execution_count": 0,
      "outputs": [
        {
          "output_type": "display_data",
          "data": {
            "image/png": "[encoded data removed]",
            "text/plain": [
              "<Figure size 576x396 with 1 Axes>"
            ]
          },
          "metadata": {
            "tags": []
          }
        }
      ]
    },
    {
      "metadata": {
        "id": "eHgCwSgqOiHc",
        "colab_type": "text"
      },
      "cell_type": "markdown",
      "source": [
        "\n",
        "The bigger network starts overfitting almost right away, after just one epoch, and overfits much more severely. Its validation loss is also \n",
        "more noisy.\n",
        "\n",
        "Meanwhile, here are the training losses for our two networks:"
      ]
    },
    {
      "metadata": {
        "id": "Zi_vEWdVOiHd",
        "colab_type": "code",
        "outputId": "7fa3fd6d-896c-46b9-c718-df8024a73ad1",
        "colab": {
          "base_uri": "https://localhost:8080/",
          "height": 361
        }
      },
      "cell_type": "code",
      "source": [
        "original_train_loss = original_hist.history['loss']\n",
        "bigger_model_train_loss = bigger_model_hist.history['loss']\n",
        "\n",
        "plt.plot(epochs, original_train_loss, 'ro', label='Original model')\n",
        "plt.plot(epochs, bigger_model_train_loss, 'bo', label='Bigger model')\n",
        "plt.xlabel('Epochs')\n",
        "plt.ylabel('Training loss')\n",
        "plt.legend()\n",
        "\n",
        "plt.show()"
      ],
      "execution_count": 0,
      "outputs": [
        {
          "output_type": "display_data",
          "data": {
            "image/png": "[encoded data removed]",
            "text/plain": [
              "<Figure size 576x396 with 1 Axes>"
            ]
          },
          "metadata": {
            "tags": []
          }
        }
      ]
    },
    {
      "metadata": {
        "id": "uhGzgCJbOiHi",
        "colab_type": "text"
      },
      "cell_type": "markdown",
      "source": [
        "As you can see, the bigger network gets its training loss near zero very quickly. The more capacity the network has, the quicker it will be \n",
        "able to model the training data (resulting in a low training loss), but the more susceptible it is to overfitting (resulting in a large \n",
        "difference between the training and validation loss)."
      ]
    },
    {
      "metadata": {
        "id": "Qcyccql6OiHj",
        "colab_type": "text"
      },
      "cell_type": "markdown",
      "source": [
        "## Adding weight regularization\n",
        "\n",
        "\n",
        "You may be familiar with _Occam's Razor_ principle: given two explanations for something, the explanation most likely to be correct is the \n",
        "\"simplest\" one, the one that makes the least amount of assumptions. This also applies to the models learned by neural networks: given some \n",
        "training data and a network architecture, there are multiple sets of weights values (multiple _models_) that could explain the data, and \n",
        "simpler models are less likely to overfit than complex ones.\n",
        "\n",
        "A \"simple model\" in this context is a model where the distribution of parameter values has less entropy (or a model with fewer \n",
        "parameters altogether, as we saw in the section above). Thus a common way to mitigate overfitting is to put constraints on the complexity \n",
        "of a network by forcing its weights to only take small values, which makes the distribution of weight values more \"regular\". This is called \n",
        "\"weight regularization\", and it is done by adding to the loss function of the network a _cost_ associated with having large weights. This \n",
        "cost comes in two flavors:\n",
        "\n",
        "* L1 regularization, where the cost added is proportional to the _absolute value of the weights coefficients_ (i.e. to what is called the \n",
        "\"L1 norm\" of the weights).\n",
        "* L2 regularization, where the cost added is proportional to the _square of the value of the weights coefficients_ (i.e. to what is called \n",
        "the \"L2 norm\" of the weights). L2 regularization is also called _weight decay_ in the context of neural networks. Don't let the different \n",
        "name confuse you: weight decay is mathematically the exact same as L2 regularization.\n",
        "\n",
        "In Keras, weight regularization is added by passing _weight regularizer instances_ to layers as keyword arguments. Let's add L2 weight \n",
        "regularization to our movie review classification network:"
      ]
    },
    {
      "metadata": {
        "id": "WNdlzxxpOiHl",
        "colab_type": "code",
        "colab": {}
      },
      "cell_type": "code",
      "source": [
        "from keras import regularizers\n",
        "\n",
        "l2_model = models.Sequential()\n",
        "l2_model.add(layers.Dense(16, kernel_regularizer=regularizers.l2(0.001),\n",
        "                          activation='relu', input_shape=(10000,)))\n",
        "l2_model.add(layers.Dense(16, kernel_regularizer=regularizers.l2(0.001),\n",
        "                          activation='relu'))\n",
        "l2_model.add(layers.Dense(1, activation='sigmoid'))"
      ],
      "execution_count": 0,
      "outputs": []
    },
    {
      "metadata": {
        "id": "6-4dnAQ7OiHp",
        "colab_type": "code",
        "colab": {}
      },
      "cell_type": "code",
      "source": [
        "l2_model.compile(optimizer='rmsprop',\n",
        "                 loss='binary_crossentropy',\n",
        "                 metrics=['acc'])"
      ],
      "execution_count": 0,
      "outputs": []
    },
    {
      "metadata": {
        "id": "NAwkb16IOiHv",
        "colab_type": "text"
      },
      "cell_type": "markdown",
      "source": [
        "`l2(0.001)` means that every coefficient in the weight matrix of the layer will add `0.001 * weight_coefficient_value` to the total loss of \n",
        "the network. Note that because this penalty is _only added at training time_, the loss for this network will be much higher at training \n",
        "than at test time.\n",
        "\n",
        "Here's the impact of our L2 regularization penalty:"
      ]
    },
    {
      "metadata": {
        "id": "06YfPPQyOiHw",
        "colab_type": "code",
        "outputId": "db58df15-a185-47c4-8c50-0ce3c57d5e22",
        "colab": {
          "base_uri": "https://localhost:8080/",
          "height": 738
        }
      },
      "cell_type": "code",
      "source": [
        "l2_model_hist = l2_model.fit(x_train, y_train,\n",
        "                             epochs=20,\n",
        "                             batch_size=512,\n",
        "                             validation_data=(x_test, y_test))"
      ],
      "execution_count": 0,
      "outputs": [
        {
          "output_type": "stream",
          "text": [
            "Train on 25000 samples, validate on 25000 samples\n",
            "Epoch 1/20\n",
            "25000/25000 [==============================] - 5s 181us/step - loss: 0.4880 - acc: 0.8152 - val_loss: 0.3904 - val_acc: 0.8649\n",
            "Epoch 2/20\n",
            "25000/25000 [==============================] - 4s 163us/step - loss: 0.3100 - acc: 0.9058 - val_loss: 0.3303 - val_acc: 0.8892\n",
            "Epoch 3/20\n",
            "25000/25000 [==============================] - 4s 161us/step - loss: 0.2652 - acc: 0.9206 - val_loss: 0.3291 - val_acc: 0.8872\n",
            "Epoch 4/20\n",
            "25000/25000 [==============================] - 4s 163us/step - loss: 0.2450 - acc: 0.9292 - val_loss: 0.3408 - val_acc: 0.8820\n",
            "Epoch 5/20\n",
            "25000/25000 [==============================] - 4s 164us/step - loss: 0.2313 - acc: 0.9353 - val_loss: 0.3820 - val_acc: 0.8680\n",
            "Epoch 6/20\n",
            "25000/25000 [==============================] - 4s 162us/step - loss: 0.2229 - acc: 0.9390 - val_loss: 0.3652 - val_acc: 0.8757\n",
            "Epoch 7/20\n",
            "25000/25000 [==============================] - 4s 165us/step - loss: 0.2156 - acc: 0.9417 - val_loss: 0.3776 - val_acc: 0.8733\n",
            "Epoch 8/20\n",
            "25000/25000 [==============================] - 4s 167us/step - loss: 0.2094 - acc: 0.9452 - val_loss: 0.3731 - val_acc: 0.8759\n",
            "Epoch 9/20\n",
            "25000/25000 [==============================] - 4s 167us/step - loss: 0.2031 - acc: 0.9472 - val_loss: 0.3769 - val_acc: 0.8758\n",
            "Epoch 10/20\n",
            "25000/25000 [==============================] - 4s 164us/step - loss: 0.1993 - acc: 0.9505 - val_loss: 0.3823 - val_acc: 0.8751\n",
            "Epoch 11/20\n",
            "25000/25000 [==============================] - 4s 162us/step - loss: 0.1935 - acc: 0.9498 - val_loss: 0.3840 - val_acc: 0.8760\n",
            "Epoch 12/20\n",
            "25000/25000 [==============================] - 4s 163us/step - loss: 0.1904 - acc: 0.9525 - val_loss: 0.3938 - val_acc: 0.8739\n",
            "Epoch 13/20\n",
            "25000/25000 [==============================] - 4s 162us/step - loss: 0.1860 - acc: 0.9554 - val_loss: 0.3984 - val_acc: 0.8740\n",
            "Epoch 14/20\n",
            "25000/25000 [==============================] - 4s 161us/step - loss: 0.1801 - acc: 0.9577 - val_loss: 0.4296 - val_acc: 0.8651\n",
            "Epoch 15/20\n",
            "25000/25000 [==============================] - 4s 163us/step - loss: 0.1800 - acc: 0.9582 - val_loss: 0.4561 - val_acc: 0.8574\n",
            "Epoch 16/20\n",
            "25000/25000 [==============================] - 4s 162us/step - loss: 0.1737 - acc: 0.9609 - val_loss: 0.4488 - val_acc: 0.8641\n",
            "Epoch 17/20\n",
            "25000/25000 [==============================] - 4s 164us/step - loss: 0.1697 - acc: 0.9628 - val_loss: 0.4190 - val_acc: 0.8716\n",
            "Epoch 18/20\n",
            "25000/25000 [==============================] - 4s 163us/step - loss: 0.1674 - acc: 0.9634 - val_loss: 0.4383 - val_acc: 0.8680\n",
            "Epoch 19/20\n",
            "25000/25000 [==============================] - 4s 161us/step - loss: 0.1632 - acc: 0.9656 - val_loss: 0.4395 - val_acc: 0.8651\n",
            "Epoch 20/20\n",
            "25000/25000 [==============================] - 4s 163us/step - loss: 0.1594 - acc: 0.9670 - val_loss: 0.4261 - val_acc: 0.8707\n"
          ],
          "name": "stdout"
        }
      ]
    },
    {
      "metadata": {
        "id": "mUVHDbvHOiH4",
        "colab_type": "code",
        "outputId": "e62e54b5-f092-436a-b4f5-a821ae8aa6de",
        "colab": {}
      },
      "cell_type": "code",
      "source": [
        "l2_model_val_loss = l2_model_hist.history['val_loss']\n",
        "\n",
        "plt.plot(epochs, original_val_loss, 'b+', label='Original model')\n",
        "plt.plot(epochs, l2_model_val_loss, 'bo', label='L2-regularized model')\n",
        "plt.xlabel('Epochs')\n",
        "plt.ylabel('Validation loss')\n",
        "plt.legend()\n",
        "\n",
        "plt.show()"
      ],
      "execution_count": 0,
      "outputs": [
        {
          "output_type": "display_data",
          "data": {
            "image/png": "[encoded data removed]",
            "text/plain": [
              "<matplotlib.figure.Figure at 0x7f43bef16c50>"
            ]
          },
          "metadata": {
            "tags": []
          }
        }
      ]
    },
    {
      "metadata": {
        "id": "w-vdFtyyOiH-",
        "colab_type": "text"
      },
      "cell_type": "markdown",
      "source": [
        "\n",
        "\n",
        "As you can see, the model with L2 regularization (dots) has become much more resistant to overfitting than the reference model (crosses), \n",
        "even though both models have the same number of parameters.\n",
        "\n",
        "As alternatives to L2 regularization, you could use one of the following Keras weight regularizers:"
      ]
    },
    {
      "metadata": {
        "id": "zxAS9SqgOiIA",
        "colab_type": "code",
        "colab": {}
      },
      "cell_type": "code",
      "source": [
        "from keras import regularizers\n",
        "\n",
        "# L1 regularization\n",
        "regularizers.l1(0.001)\n",
        "\n",
        "# L1 and L2 regularization at the same time\n",
        "regularizers.l1_l2(l1=0.001, l2=0.001)"
      ],
      "execution_count": 0,
      "outputs": []
    },
    {
      "metadata": {
        "id": "w-ruK_oJOiIF",
        "colab_type": "text"
      },
      "cell_type": "markdown",
      "source": [
        "## Adding dropout\n",
        "\n",
        "\n",
        "Dropout is one of the most effective and most commonly used regularization techniques for neural networks, developed by Hinton and his \n",
        "students at the University of Toronto. Dropout, applied to a layer, consists of randomly \"dropping out\" (i.e. setting to zero) a number of \n",
        "output features of the layer during training. Let's say a given layer would normally have returned a vector `[0.2, 0.5, 1.3, 0.8, 1.1]` for a \n",
        "given input sample during training; after applying dropout, this vector will have a few zero entries distributed at random, e.g. `[0, 0.5, \n",
        "1.3, 0, 1.1]`. The \"dropout rate\" is the fraction of the features that are being zeroed-out; it is usually set between 0.2 and 0.5. At test \n",
        "time, no units are dropped out, and instead the layer's output values are scaled down by a factor equal to the dropout rate, so as to \n",
        "balance for the fact that more units are active than at training time.\n",
        "\n",
        "Consider a Numpy matrix containing the output of a layer, `layer_output`, of shape `(batch_size, features)`. At training time, we would be \n",
        "zero-ing out at random a fraction of the values in the matrix:"
      ]
    },
    {
      "metadata": {
        "id": "A0gltz_NOiIH",
        "colab_type": "code",
        "colab": {}
      },
      "cell_type": "code",
      "source": [
        "# At training time: we drop out 50% of the units in the output\n",
        "layer_output *= np.randint(0, high=2, size=layer_output.shape)"
      ],
      "execution_count": 0,
      "outputs": []
    },
    {
      "metadata": {
        "id": "3Gt881hSOiIM",
        "colab_type": "text"
      },
      "cell_type": "markdown",
      "source": [
        "\n",
        "At test time, we would be scaling the output down by the dropout rate. Here we scale by 0.5 (because we were previous dropping half the \n",
        "units):"
      ]
    },
    {
      "metadata": {
        "id": "lWs5ospHOiIN",
        "colab_type": "code",
        "colab": {}
      },
      "cell_type": "code",
      "source": [
        "# At test time:\n",
        "layer_output *= 0.5"
      ],
      "execution_count": 0,
      "outputs": []
    },
    {
      "metadata": {
        "id": "L4rkiAHGOiIS",
        "colab_type": "text"
      },
      "cell_type": "markdown",
      "source": [
        "\n",
        "Note that this process can be implemented by doing both operations at training time and leaving the output unchanged at test time, which is \n",
        "often the way it is implemented in practice:"
      ]
    },
    {
      "metadata": {
        "id": "5O_AbVqgOiIT",
        "colab_type": "code",
        "colab": {}
      },
      "cell_type": "code",
      "source": [
        "# At training time:\n",
        "layer_output *= np.randint(0, high=2, size=layer_output.shape)\n",
        "# Note that we are scaling *up* rather scaling *down* in this case\n",
        "layer_output /= 0.5"
      ],
      "execution_count": 0,
      "outputs": []
    },
    {
      "metadata": {
        "id": "KVDnGAYyOiIW",
        "colab_type": "text"
      },
      "cell_type": "markdown",
      "source": [
        "\n",
        "This technique may seem strange and arbitrary. Why would this help reduce overfitting? Geoff Hinton has said that he was inspired, among \n",
        "other things, by a fraud prevention mechanism used by banks -- in his own words: _\"I went to my bank. The tellers kept changing and I asked \n",
        "one of them why. He said he didn�t know but they got moved around a lot. I figured it must be because it would require cooperation \n",
        "between employees to successfully defraud the bank. This made me realize that randomly removing a different subset of neurons on each \n",
        "example would prevent conspiracies and thus reduce overfitting\"_.\n",
        "\n",
        "The core idea is that introducing noise in the output values of a layer can break up happenstance patterns that are not significant (what \n",
        "Hinton refers to as \"conspiracies\"), which the network would start memorizing if no noise was present. \n",
        "\n",
        "In Keras you can introduce dropout in a network via the `Dropout` layer, which gets applied to the output of layer right before it, e.g.:"
      ]
    },
    {
      "metadata": {
        "id": "E4hbu65_OiIX",
        "colab_type": "code",
        "colab": {}
      },
      "cell_type": "code",
      "source": [
        "model.add(layers.Dropout(0.5))"
      ],
      "execution_count": 0,
      "outputs": []
    },
    {
      "metadata": {
        "id": "QpASo5FhOiIb",
        "colab_type": "text"
      },
      "cell_type": "markdown",
      "source": [
        "Let's add two `Dropout` layers in our IMDB network to see how well they do at reducing overfitting:"
      ]
    },
    {
      "metadata": {
        "id": "6mF3ycKBOiIc",
        "colab_type": "code",
        "colab": {}
      },
      "cell_type": "code",
      "source": [
        "dpt_model = models.Sequential()\n",
        "dpt_model.add(layers.Dense(16, activation='relu', input_shape=(10000,)))\n",
        "dpt_model.add(layers.Dropout(0.5))\n",
        "dpt_model.add(layers.Dense(16, activation='relu'))\n",
        "dpt_model.add(layers.Dropout(0.5))\n",
        "dpt_model.add(layers.Dense(1, activation='sigmoid'))\n",
        "\n",
        "dpt_model.compile(optimizer='rmsprop',\n",
        "                  loss='binary_crossentropy',\n",
        "                  metrics=['acc'])"
      ],
      "execution_count": 0,
      "outputs": []
    },
    {
      "metadata": {
        "id": "3sLk5kwGOiIg",
        "colab_type": "code",
        "outputId": "9816fa82-0fd1-4051-da9f-164c591d07dc",
        "colab": {}
      },
      "cell_type": "code",
      "source": [
        "dpt_model_hist = dpt_model.fit(x_train, y_train,\n",
        "                               epochs=20,\n",
        "                               batch_size=512,\n",
        "                               validation_data=(x_test, y_test))"
      ],
      "execution_count": 0,
      "outputs": [
        {
          "output_type": "stream",
          "text": [
            "Train on 25000 samples, validate on 25000 samples\n",
            "Epoch 1/20\n",
            "25000/25000 [==============================] - 3s - loss: 0.6035 - acc: 0.6678 - val_loss: 0.4704 - val_acc: 0.8651\n",
            "Epoch 2/20\n",
            "25000/25000 [==============================] - 2s - loss: 0.4622 - acc: 0.8002 - val_loss: 0.3612 - val_acc: 0.8724\n",
            "Epoch 3/20\n",
            "25000/25000 [==============================] - 2s - loss: 0.3731 - acc: 0.8553 - val_loss: 0.2960 - val_acc: 0.8904\n",
            "Epoch 4/20\n",
            "25000/25000 [==============================] - 2s - loss: 0.3162 - acc: 0.8855 - val_loss: 0.2772 - val_acc: 0.8917\n",
            "Epoch 5/20\n",
            "25000/25000 [==============================] - 2s - loss: 0.2762 - acc: 0.9033 - val_loss: 0.2803 - val_acc: 0.8889\n",
            "Epoch 6/20\n",
            "25000/25000 [==============================] - 2s - loss: 0.2454 - acc: 0.9172 - val_loss: 0.2823 - val_acc: 0.8892\n",
            "Epoch 7/20\n",
            "25000/25000 [==============================] - 2s - loss: 0.2178 - acc: 0.9281 - val_loss: 0.2982 - val_acc: 0.8877\n",
            "Epoch 8/20\n",
            "25000/25000 [==============================] - 2s - loss: 0.1994 - acc: 0.9351 - val_loss: 0.3101 - val_acc: 0.8875\n",
            "Epoch 9/20\n",
            "25000/25000 [==============================] - 2s - loss: 0.1832 - acc: 0.9400 - val_loss: 0.3318 - val_acc: 0.8860\n",
            "Epoch 10/20\n",
            "25000/25000 [==============================] - 2s - loss: 0.1692 - acc: 0.9434 - val_loss: 0.3534 - val_acc: 0.8841\n",
            "Epoch 11/20\n",
            "25000/25000 [==============================] - 2s - loss: 0.1590 - acc: 0.9483 - val_loss: 0.3689 - val_acc: 0.8830\n",
            "Epoch 12/20\n",
            "25000/25000 [==============================] - 2s - loss: 0.1499 - acc: 0.9496 - val_loss: 0.4107 - val_acc: 0.8776\n",
            "Epoch 13/20\n",
            "25000/25000 [==============================] - 2s - loss: 0.1405 - acc: 0.9539 - val_loss: 0.4114 - val_acc: 0.8782\n",
            "Epoch 14/20\n",
            "25000/25000 [==============================] - 2s - loss: 0.1333 - acc: 0.9562 - val_loss: 0.4549 - val_acc: 0.8771\n",
            "Epoch 15/20\n",
            "25000/25000 [==============================] - 2s - loss: 0.1267 - acc: 0.9572 - val_loss: 0.4579 - val_acc: 0.8800\n",
            "Epoch 16/20\n",
            "25000/25000 [==============================] - 2s - loss: 0.1225 - acc: 0.9580 - val_loss: 0.4843 - val_acc: 0.8772\n",
            "Epoch 17/20\n",
            "25000/25000 [==============================] - 2s - loss: 0.1233 - acc: 0.9590 - val_loss: 0.4783 - val_acc: 0.8761\n",
            "Epoch 18/20\n",
            "25000/25000 [==============================] - 2s - loss: 0.1212 - acc: 0.9601 - val_loss: 0.5051 - val_acc: 0.8740\n",
            "Epoch 19/20\n",
            "25000/25000 [==============================] - 2s - loss: 0.1153 - acc: 0.9618 - val_loss: 0.5451 - val_acc: 0.8747\n",
            "Epoch 20/20\n",
            "25000/25000 [==============================] - 2s - loss: 0.1155 - acc: 0.9621 - val_loss: 0.5358 - val_acc: 0.8738\n"
          ],
          "name": "stdout"
        }
      ]
    },
    {
      "metadata": {
        "id": "U54WElLWOiIk",
        "colab_type": "text"
      },
      "cell_type": "markdown",
      "source": [
        "Let's plot the results:"
      ]
    },
    {
      "metadata": {
        "id": "9xWNVWehOiIl",
        "colab_type": "code",
        "outputId": "d4b1fd69-49d7-48c0-aff2-2c58fe19488d",
        "colab": {}
      },
      "cell_type": "code",
      "source": [
        "dpt_model_val_loss = dpt_model_hist.history['val_loss']\n",
        "\n",
        "plt.plot(epochs, original_val_loss, 'b+', label='Original model')\n",
        "plt.plot(epochs, dpt_model_val_loss, 'bo', label='Dropout-regularized model')\n",
        "plt.xlabel('Epochs')\n",
        "plt.ylabel('Validation loss')\n",
        "plt.legend()\n",
        "\n",
        "plt.show()"
      ],
      "execution_count": 0,
      "outputs": [
        {
          "output_type": "display_data",
          "data": {
            "image/png": "[encoded data removed]",
            "text/plain": [
              "<matplotlib.figure.Figure at 0x7f43baa91dd8>"
            ]
          },
          "metadata": {
            "tags": []
          }
        }
      ]
    },
    {
      "metadata": {
        "id": "dInlM55AOiIp",
        "colab_type": "text"
      },
      "cell_type": "markdown",
      "source": [
        "\n",
        "Again, a clear improvement over the reference network.\n",
        "\n",
        "To recap: here the most common ways to prevent overfitting in neural networks:\n",
        "\n",
        "* Getting more training data.\n",
        "* Reducing the capacity of the network.\n",
        "* Adding weight regularization.\n",
        "* Adding dropout."
      ]
    }
  ]
}